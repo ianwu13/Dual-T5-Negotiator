{
 "cells": [
  {
   "cell_type": "markdown",
   "metadata": {},
   "source": [
    "***\n",
    "### Imports and Globals\n",
    "***"
   ]
  },
  {
   "cell_type": "code",
   "execution_count": 1,
   "metadata": {},
   "outputs": [
    {
     "name": "stderr",
     "output_type": "stream",
     "text": [
      "/Library/Frameworks/Python.framework/Versions/3.8/lib/python3.8/site-packages/tqdm/auto.py:22: TqdmWarning: IProgress not found. Please update jupyter and ipywidgets. See https://ipywidgets.readthedocs.io/en/stable/user_install.html\n",
      "  from .autonotebook import tqdm as notebook_tqdm\n"
     ]
    }
   ],
   "source": [
    "from transformers import T5Tokenizer, T5ForConditionalGeneration\n",
    "from transformers import DataCollatorForSeq2Seq, Seq2SeqTrainingArguments, Seq2SeqTrainer\n",
    "from datasets import load_dataset, load_metric\n",
    "from datasets.utils import logging\n",
    "import torch\n",
    "\n",
    "import numpy as np\n",
    "import pandas as pd\n"
   ]
  },
  {
   "cell_type": "code",
   "execution_count": 2,
   "metadata": {},
   "outputs": [],
   "source": [
    "RANDOM_SEED = 99\n",
    "\n",
    "DATA_FILES = 'casino' # | 'casino_w_task_data'\n",
    "\n",
    "# DEVICE = torch.device('cuda:0' if torch.cuda.is_available() else 'cpu')\n",
    "\n",
    "MODEL_DIR = 'model_saves'\n",
    "MAX_INPUT_LEN = 1024  # Max length sequence in baseline_casino.csv is 824\n",
    "MAX_OUTPUT_LEN = 192\n",
    "# MODEL_NAME = \"t5-base\"\n",
    "MODEL_NAME = \"t5-small\"\n",
    "\n",
    "MODEL_STATE_DIR = './final_model/' # || './final_model_opponent_pref/'"
   ]
  },
  {
   "cell_type": "markdown",
   "metadata": {},
   "source": [
    "***\n",
    "### Creating the Model/Tokenizer\n",
    "***"
   ]
  },
  {
   "cell_type": "code",
   "execution_count": 3,
   "metadata": {},
   "outputs": [
    {
     "name": "stderr",
     "output_type": "stream",
     "text": [
      "Special tokens have been added in the vocabulary, make sure the associated word embeddings are fine-tuned or trained.\n"
     ]
    },
    {
     "data": {
      "text/plain": [
       "Embedding(32103, 512)"
      ]
     },
     "execution_count": 3,
     "metadata": {},
     "output_type": "execute_result"
    }
   ],
   "source": [
    "model = T5ForConditionalGeneration.from_pretrained(MODEL_STATE_DIR)\n",
    "\n",
    "tokenizer = T5Tokenizer.from_pretrained(MODEL_STATE_DIR, model_max_length=MAX_INPUT_LEN, eos_token='<EOS>')\n",
    "special_tokens = {'additional_special_tokens': ['<CONTEXT>', '<HISTORY>', '<YOU>', '<THEM>']}\n",
    "tokenizer.add_special_tokens(special_tokens)\n",
    "model.resize_token_embeddings(len(tokenizer))\n",
    "model.config.eos_token_id=tokenizer.eos_token_id"
   ]
  },
  {
   "cell_type": "markdown",
   "metadata": {},
   "source": [
    "***\n",
    "### Data Processing\n",
    "***"
   ]
  },
  {
   "cell_type": "code",
   "execution_count": null,
   "metadata": {},
   "outputs": [],
   "source": [
    "# Construct Dataset\n",
    "def preprocess_function(examples):\n",
    "    # Tokenize inputs/outputs\n",
    "    model_inputs = tokenizer(examples['input_seq'], max_length=MAX_INPUT_LEN, truncation=True)\n",
    "\n",
    "    # Setup the tokenizer for targets\n",
    "    with tokenizer.as_target_tokenizer():\n",
    "        labels = tokenizer(examples['response'], max_length=MAX_OUTPUT_LEN, truncation=True)\n",
    "    model_inputs[\"labels\"] = labels[\"input_ids\"]\n",
    "\n",
    "    return model_inputs\n",
    "\n",
    "\n",
    "# Loading Dataset\n",
    "b_url = f'{DATA_FILES}/'\n",
    "raw_datasets = load_dataset(\"csv\", data_files={'train': f'{b_url}train.csv', 'eval': f'{b_url}eval.csv', 'test': f'{b_url}test.csv'})\n",
    "raw_datasets = raw_datasets.shuffle(seed=RANDOM_SEED)\n",
    "\n",
    "tokenized_datasets = raw_datasets.map(preprocess_function, batched=True)"
   ]
  },
  {
   "cell_type": "code",
   "execution_count": null,
   "metadata": {},
   "outputs": [],
   "source": [
    "tokenized_datasets"
   ]
  },
  {
   "cell_type": "markdown",
   "metadata": {},
   "source": [
    "***\n",
    "### Testing\n",
    "***"
   ]
  },
  {
   "cell_type": "code",
   "execution_count": null,
   "metadata": {},
   "outputs": [],
   "source": [
    "# For qualitative evaluation\n",
    "index = 7\n",
    "input_ids = tokenizer(tokenized_datasets['test'][index]['input_seq'], return_tensors=\"pt\").input_ids\n",
    "output_encodings = model.generate(input_ids, num_beams=1, do_sample=False, max_length=MAX_OUTPUT_LEN)\n",
    "output = tokenizer.decode(output_encodings[0])\n",
    "print('-'*50)\n",
    "print('Input Sentence:')\n",
    "print(tokenized_datasets['test'][index]['input_seq'])\n",
    "print('-'*50)\n",
    "print('GT Output Sentence:')\n",
    "print(tokenized_datasets['test'][index]['response'])\n",
    "print('-'*50)\n",
    "print('Output Sentence:')\n",
    "print(output)"
   ]
  },
  {
   "cell_type": "code",
   "execution_count": null,
   "metadata": {},
   "outputs": [],
   "source": [
    "# Example for inferencing below\n",
    "encodings = tokenizer.encode('<THEM> Hello may I please have 15 firewood and 3 water', max_length=MAX_INPUT_LEN, truncation=True)\n",
    "tokenizer.decode(model.generate(torch.tensor([encodings], num_beams=1, do_sample=False, max_length=MAX_OUTPUT_LEN).to(torch.device('cpu')))[0])"
   ]
  },
  {
   "cell_type": "code",
   "execution_count": null,
   "metadata": {},
   "outputs": [],
   "source": [
    "# EXAMPLES FOR DECODING METHODS\n",
    "index = 500\n",
    "\n",
    "input_ids = tokenizer(tokenized_datasets['test'][index]['input_seq'], return_tensors=\"pt\", max_length=MAX_OUTPUT_LEN, truncation=True).input_ids\n",
    "\n",
    "print('Input Sentence:')\n",
    "print(tokenized_datasets['test'][index]['input_seq'])\n",
    "\n",
    "print('-'*50)\n",
    "print('GT Output Sentence:')\n",
    "print(tokenized_datasets['test'][index]['response'])\n",
    "\n",
    "print('-'*50)\n",
    "output_encodings = model.generate(input_ids, num_beams=1, do_sample=False, max_new_tokens=MAX_OUTPUT_LEN)\n",
    "output = tokenizer.decode(output_encodings[0], max_length=MAX_OUTPUT_LEN, truncation=True)\n",
    "print('Output Sentence with greedy decoding (default):')\n",
    "print(output)\n",
    "print(f'Length: {len(output.split())}')\n",
    "\n",
    "print('-'*50)\n",
    "output_encodings = model.generate(input_ids, num_beams=10, do_sample=False, max_new_tokens=MAX_OUTPUT_LEN)\n",
    "output = tokenizer.decode(output_encodings[0], max_length=MAX_OUTPUT_LEN, truncation=True)\n",
    "print('Output Sentence with 10-beam search:')\n",
    "print(output)\n",
    "print(f'Length: {len(output.split())}')\n",
    "\n",
    "print('-'*50)\n",
    "output_encodings = model.generate(input_ids, num_beams=1, do_sample=True, max_new_tokens=MAX_OUTPUT_LEN)\n",
    "output = tokenizer.decode(output_encodings[0], max_length=MAX_OUTPUT_LEN, truncation=True)\n",
    "print('Output Sentence with multinomial sampling:')\n",
    "print(output)\n",
    "print(f'Length: {len(output.split())}')\n",
    "\n",
    "print('-'*50)\n",
    "output_encodings = model.generate(input_ids, num_beams=10, do_sample=True, max_new_tokens=MAX_OUTPUT_LEN)\n",
    "output = tokenizer.decode(output_encodings[0], max_length=MAX_OUTPUT_LEN, truncation=True)\n",
    "print('Output Sentence with 10-beam search multinomial sampling')\n",
    "print(output)\n",
    "# print(f'Length: {len(output.split())}')"
   ]
  }
 ],
 "metadata": {
  "kernelspec": {
   "display_name": "Python 3.8.5 64-bit",
   "language": "python",
   "name": "python3"
  },
  "language_info": {
   "codemirror_mode": {
    "name": "ipython",
    "version": 3
   },
   "file_extension": ".py",
   "mimetype": "text/x-python",
   "name": "python",
   "nbconvert_exporter": "python",
   "pygments_lexer": "ipython3",
   "version": "3.8.5"
  },
  "orig_nbformat": 4,
  "vscode": {
   "interpreter": {
    "hash": "aee8b7b246df8f9039afb4144a1f6fd8d2ca17a180786b69acc140d282b71a49"
   }
  }
 },
 "nbformat": 4,
 "nbformat_minor": 2
}
