{
 "cells": [
  {
   "cell_type": "markdown",
   "metadata": {},
   "source": [
    "Used YouTube video as reference\n",
    "\n",
    "https://github.com/huggingface/notebooks/blob/main/examples/summarization.ipynb\n",
    "\n",
    "https://github.com/huggingface/transformers/tree/main/examples/legacy/seq2seq\n",
    "\n",
    "https://youtu.be/T2fISIRogkg"
   ]
  },
  {
   "cell_type": "markdown",
   "metadata": {},
   "source": [
    "***\n",
    "### Imports and Globals\n",
    "***"
   ]
  },
  {
   "cell_type": "code",
   "execution_count": 1,
   "metadata": {},
   "outputs": [
    {
     "name": "stderr",
     "output_type": "stream",
     "text": [
      "/Library/Frameworks/Python.framework/Versions/3.8/lib/python3.8/site-packages/tqdm/auto.py:22: TqdmWarning: IProgress not found. Please update jupyter and ipywidgets. See https://ipywidgets.readthedocs.io/en/stable/user_install.html\n",
      "  from .autonotebook import tqdm as notebook_tqdm\n"
     ]
    }
   ],
   "source": [
    "from transformers import T5Tokenizer, T5ForConditionalGeneration\n",
    "from transformers import DataCollatorForSeq2Seq, Seq2SeqTrainingArguments, Seq2SeqTrainer\n",
    "from datasets import load_dataset, load_metric\n",
    "import torch\n",
    "\n",
    "import nltk\n",
    "from nltk.translate.bleu_score import sentence_bleu\n",
    "import numpy as np\n"
   ]
  },
  {
   "cell_type": "code",
   "execution_count": null,
   "metadata": {},
   "outputs": [],
   "source": [
    "# Important for saving model\n",
    "nltk.download('punkt')"
   ]
  },
  {
   "cell_type": "code",
   "execution_count": 2,
   "metadata": {},
   "outputs": [],
   "source": [
    "RANDOM_SEED = 99\n",
    "\n",
    "DATA_FILES = 'casino' # | 'casino_w_task_data'\n",
    "\n",
    "# DEVICE = torch.device('cuda:0' if torch.cuda.is_available() else 'cpu')\n",
    "\n",
    "MODEL_DIR = 'model_saves'\n",
    "MAX_INPUT_LEN = 1024  # Max length sequence in baseline_casino.csv is 824\n",
    "MAX_OUTPUT_LEN = 192\n",
    "MODEL_NAME = \"t5-base\"\n",
    "# MODEL_NAME = \"t5-small\""
   ]
  },
  {
   "cell_type": "markdown",
   "metadata": {},
   "source": [
    "***\n",
    "### Creating the Model/Tokenizer\n",
    "***"
   ]
  },
  {
   "cell_type": "code",
   "execution_count": 3,
   "metadata": {},
   "outputs": [
    {
     "name": "stderr",
     "output_type": "stream",
     "text": [
      "Special tokens have been added in the vocabulary, make sure the associated word embeddings are fine-tuned or trained.\n"
     ]
    },
    {
     "data": {
      "text/plain": [
       "Embedding(32103, 512)"
      ]
     },
     "execution_count": 3,
     "metadata": {},
     "output_type": "execute_result"
    }
   ],
   "source": [
    "model = T5ForConditionalGeneration.from_pretrained(MODEL_NAME)\n",
    "\n",
    "tokenizer = T5Tokenizer.from_pretrained(MODEL_NAME, model_max_length=MAX_INPUT_LEN, eos_token='<EOS>')\n",
    "special_tokens = {'additional_special_tokens': ['<CONTEXT>', '<HISTORY>', '<YOU>', '<THEM>']}\n",
    "tokenizer.add_special_tokens(special_tokens)\n",
    "\n",
    "model.resize_token_embeddings(len(tokenizer))\n",
    "model.config.eos_token_id=tokenizer.eos_token_id\n",
    "\n",
    "# Can use following instead for better generalization when testing other architectures\n",
    "# model = AutoModelForSeq2SeqLM.from_pretrained(MODEL_NAME)\n",
    "# tokenizer = AutoTokenizer.from_pretrained(MODEL_NAME, model_max_length=MAX_INPUT_LEN)"
   ]
  },
  {
   "cell_type": "markdown",
   "metadata": {},
   "source": [
    "***\n",
    "### Data Processing\n",
    "***"
   ]
  },
  {
   "cell_type": "code",
   "execution_count": null,
   "metadata": {},
   "outputs": [],
   "source": [
    "# Construct Dataset\n",
    "def preprocess_function(examples):\n",
    "    # Tokenize inputs/outputs\n",
    "    model_inputs = tokenizer(examples['input_seq'], max_length=MAX_INPUT_LEN, truncation=True)\n",
    "\n",
    "    # Setup the tokenizer for targets\n",
    "    with tokenizer.as_target_tokenizer():\n",
    "        labels = tokenizer(examples['response'], max_length=MAX_OUTPUT_LEN, truncation=True)\n",
    "    model_inputs[\"labels\"] = labels[\"input_ids\"]\n",
    "\n",
    "    return model_inputs\n",
    "\n",
    "\n",
    "# Loading Dataset\n",
    "b_url = f'data/splits/{DATA_FILES}/'\n",
    "raw_datasets = load_dataset(\"csv\", data_files={'train': f'{b_url}train.csv', 'eval': f'{b_url}eval.csv', 'test': f'{b_url}test.csv'})\n",
    "raw_datasets = raw_datasets.shuffle(seed=RANDOM_SEED)\n",
    "\n",
    "tokenized_datasets = raw_datasets.map(preprocess_function, batched=True)"
   ]
  },
  {
   "cell_type": "code",
   "execution_count": null,
   "metadata": {},
   "outputs": [],
   "source": [
    "raw_datasets"
   ]
  },
  {
   "cell_type": "markdown",
   "metadata": {},
   "source": [
    "***\n",
    "### Training\n",
    "***"
   ]
  },
  {
   "cell_type": "code",
   "execution_count": null,
   "metadata": {},
   "outputs": [],
   "source": [
    "batch_size = 8\n",
    "model_name = MODEL_NAME.split(\"/\")[-1]\n",
    "args = Seq2SeqTrainingArguments(\n",
    "    f\"{MODEL_DIR}/{model_name}-finetuned\",\n",
    "    evaluation_strategy = \"epoch\",\n",
    "    learning_rate=2e-5,\n",
    "    per_device_train_batch_size=batch_size,\n",
    "    per_device_eval_batch_size=batch_size,\n",
    "    weight_decay=0.01,\n",
    "    save_total_limit=3,\n",
    "    num_train_epochs=1,\n",
    "    predict_with_generate=True,\n",
    "    # fp16=True,\n",
    "    push_to_hub=False,\n",
    ")\n",
    "\n",
    "data_collator = DataCollatorForSeq2Seq(tokenizer, model=model)\n",
    "\n",
    "bertscore = load_metric('bertscore')\n",
    "\n",
    "\n",
    "def compute_metrics(eval_pred):\n",
    "    predictions, labels = eval_pred\n",
    "    decoded_preds = tokenizer.batch_decode(predictions, skip_special_tokens=True)\n",
    "    # Replace -100 in the labels as we can't decode them.\n",
    "    labels = np.where(labels != -100, labels, tokenizer.pad_token_id)\n",
    "    decoded_labels = tokenizer.batch_decode(labels, skip_special_tokens=True)\n",
    "    \n",
    "    decoded_preds = [\"\\n\".join(nltk.sent_tokenize(pred.strip())) for pred in decoded_preds]\n",
    "    decoded_labels = [\"\\n\".join(nltk.sent_tokenize(label.strip())) for label in decoded_labels]\n",
    "    \n",
    "    bertscore_result = bertscore.compute(predictions=decoded_preds, references=decoded_labels, lang=\"en\")\n",
    "    \n",
    "    bleu_result = []\n",
    "    for lab, pred in zip(decoded_labels, decoded_preds):\n",
    "        # Syntax: sentence_blue(reference, candidate AKA prediction, weights) \n",
    "        sample_score = sentence_bleu([lab.lower().split()], pred.lower().split(), weights=(0.50, 0.25, 0.15, 0.10))\n",
    "        bleu_result.append(sample_score)\n",
    "    bleu_result = np.mean(bleu_result)\n",
    "\n",
    "    return {'bleu': bleu_result, 'bertscore_precision': np.mean(bertscore_result['precision']), 'bertscore_recall': np.mean(bertscore_result['recall']), 'bertscore_f1': np.mean(bertscore_result['f1'])}"
   ]
  },
  {
   "cell_type": "code",
   "execution_count": null,
   "metadata": {},
   "outputs": [],
   "source": [
    "trainer = Seq2SeqTrainer(\n",
    "    model,\n",
    "    args,\n",
    "    train_dataset=tokenized_datasets['train'],\n",
    "    eval_dataset=tokenized_datasets['test'],\n",
    "    data_collator=data_collator,\n",
    "    tokenizer=tokenizer,\n",
    "    compute_metrics=compute_metrics\n",
    ")\n",
    "\n",
    "trainer.train()"
   ]
  },
  {
   "cell_type": "code",
   "execution_count": null,
   "metadata": {},
   "outputs": [],
   "source": [
    "trainer.save_model('final_model')"
   ]
  },
  {
   "cell_type": "markdown",
   "metadata": {},
   "source": [
    "***\n",
    "### Testing\n",
    "***"
   ]
  },
  {
   "cell_type": "code",
   "execution_count": null,
   "metadata": {},
   "outputs": [],
   "source": [
    "# Can load in trained model here\n",
    "LOAD_MODEL = False\n",
    "if LOAD_MODEL:\n",
    "    model = T5ForConditionalGeneration.from_pretrained('./final_model/')\n",
    "    tokenizer = T5Tokenizer.from_pretrained('./final_model/', model_max_length=MAX_INPUT_LEN, eos_token='<EOS>')\n",
    "    special_tokens = {'additional_special_tokens': ['<CONTEXT>', '<HISTORY>', '<YOU>', '<THEM>']}\n",
    "    tokenizer.add_special_tokens(special_tokens)\n",
    "    model.resize_token_embeddings(len(tokenizer))\n",
    "    model.config.eos_token_id=tokenizer.eos_token_id\n"
   ]
  },
  {
   "cell_type": "code",
   "execution_count": null,
   "metadata": {},
   "outputs": [],
   "source": [
    "# For qualitative evaluation\n",
    "index = 7\n",
    "input_ids = tokenizer(tokenized_datasets['test'][index]['input_seq'], return_tensors=\"pt\").input_ids\n",
    "output_encodings = model.generate(input_ids, num_beams=1, do_sample=False, max_length=MAX_OUTPUT_LEN)\n",
    "output = tokenizer.decode(output_encodings[0])\n",
    "print('-'*50)\n",
    "print('Input Sentence:')\n",
    "print(tokenized_datasets['test'][index]['input_seq'])\n",
    "print('-'*50)\n",
    "print('GT Output Sentence:')\n",
    "print(tokenized_datasets['test'][index]['response'])\n",
    "print('-'*50)\n",
    "print('Output Sentence:')\n",
    "print(output)"
   ]
  },
  {
   "cell_type": "code",
   "execution_count": null,
   "metadata": {},
   "outputs": [],
   "source": [
    "# Quantitative evaluation using trainer.evaluate()\n",
    "# TODO"
   ]
  },
  {
   "cell_type": "code",
   "execution_count": null,
   "metadata": {},
   "outputs": [],
   "source": [
    "# Example for inferencing below\n",
    "\n",
    "encodings = tokenizer.encode('<THEM> Hello may I please have 15 firewood and 3 water', max_length=MAX_INPUT_LEN, truncation=True)\n",
    "tokenizer.decode(model.generate(torch.tensor([encodings], num_beams=1, do_sample=False, max_length=MAX_OUTPUT_LEN).to(torch.device('cpu')))[0])"
   ]
  }
 ],
 "metadata": {
  "kernelspec": {
   "display_name": "Python 3.8.5 64-bit",
   "language": "python",
   "name": "python3"
  },
  "language_info": {
   "codemirror_mode": {
    "name": "ipython",
    "version": 3
   },
   "file_extension": ".py",
   "mimetype": "text/x-python",
   "name": "python",
   "nbconvert_exporter": "python",
   "pygments_lexer": "ipython3",
   "version": "3.8.5"
  },
  "orig_nbformat": 4,
  "vscode": {
   "interpreter": {
    "hash": "aee8b7b246df8f9039afb4144a1f6fd8d2ca17a180786b69acc140d282b71a49"
   }
  }
 },
 "nbformat": 4,
 "nbformat_minor": 2
}
